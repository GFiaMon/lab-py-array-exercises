{
 "cells": [
  {
   "cell_type": "markdown",
   "metadata": {},
   "source": [
    "# LAB : Python Array Exercises"
   ]
  },
  {
   "cell_type": "markdown",
   "metadata": {},
   "source": [
    "## Overview"
   ]
  },
  {
   "cell_type": "markdown",
   "metadata": {},
   "source": [
    "This exercise set focuses on various operations and problems related to arrays in Python. Each exercise is categorized by difficulty level, with examples provided for clarity.\n"
   ]
  },
  {
   "cell_type": "markdown",
   "metadata": {},
   "source": [
    "## Instructions\n",
    "\n",
    "- Complete each exercise by writing the appropriate Python code.\n",
    "- Complete your code in a Jupyter Notebook (.ipynb) format.\n",
    "- Submit the link to your forked repository containing the notebook with your implementation.\n",
    "\n",
    "Make sure to follow these steps carefully to ensure proper submission of your work. "
   ]
  },
  {
   "cell_type": "markdown",
   "metadata": {},
   "source": [
    "\n",
    "## Exercises\n"
   ]
  },
  {
   "cell_type": "markdown",
   "metadata": {},
   "source": [
    "\n",
    "1. **Create an Array and Display Items**\n",
    "   - Write a Python program to create an array of 5 integers and display the array items. Access individual elements through indexes.\n",
    "\n",
    "   **Example:**\n",
    "   ```python\n",
    "   # Sample Input\n",
    "   arr =[1, 3, 5, 7, 9]\n",
    "\n",
    "   # Sample Output\n",
    "   1\n",
    "   3\n",
    "   5\n",
    "   7\n",
    "   9\n",
    "   ```\n"
   ]
  },
  {
   "cell_type": "code",
   "execution_count": 67,
   "metadata": {},
   "outputs": [
    {
     "name": "stdout",
     "output_type": "stream",
     "text": [
      "100\n",
      "110\n",
      "120\n",
      "130\n",
      "140\n"
     ]
    }
   ],
   "source": [
    "# Write your code HERE\n",
    "arr = [100, 110, 120, 130, 140]\n",
    "\n",
    "\"\"\"items[arr[i] for i in arr  ] # I wanted to create an iteration to print all the the values but doesnt work\n",
    "# print(arr[i] for i in arr)\n",
    "print(items)\"\"\"\n",
    "\n",
    "for i in range(len(arr)):\n",
    "    print(arr[i])\n",
    "\n",
    "# print(arr[4])"
   ]
  },
  {
   "cell_type": "markdown",
   "metadata": {},
   "source": [
    "\n",
    "2. **Append an Item to the Array**\n",
    "   - Write a Python program to append a new item to the end of the array.\n",
    "\n",
    "   **Example:**\n",
    "   ```python\n",
    "   # Sample Input\n",
    "   arr =  [1, 3, 5, 7, 9]\n",
    "\n",
    "   # Sample Output\n",
    "   Original array: [1, 3, 5, 7, 9]\n",
    "   New array after appending: [1, 3, 5, 7, 9, 11]\n",
    "   ```\n"
   ]
  },
  {
   "cell_type": "code",
   "execution_count": 68,
   "metadata": {},
   "outputs": [
    {
     "name": "stdout",
     "output_type": "stream",
     "text": [
      " Original array: [100, 110, 120, 130, 140]\n",
      " New array after appending: [100, 110, 120, 130, 140, 400]\n"
     ]
    }
   ],
   "source": [
    "# Write your code HERE\n",
    "print(f\" Original array: {arr}\")\n",
    "arr.append(400)\n",
    "print(f\" New array after appending: {arr}\")\n",
    "\n"
   ]
  },
  {
   "cell_type": "markdown",
   "metadata": {},
   "source": [
    "\n",
    "3. **Reverse the Array**\n",
    "   - Write a Python program to reverse the order of the items in the array.\n",
    "\n",
    "   **Example:**\n",
    "   ```python\n",
    "   # Sample Input\n",
    "   arr = [1, 3, 5, 7, 9]\n",
    "\n",
    "   # Sample Output\n",
    "   Original array:[1, 3, 5, 7, 9]\n",
    "   Reversed array:  [9, 7, 5, 3, 1]\n",
    "   ```\n"
   ]
  },
  {
   "cell_type": "code",
   "execution_count": 69,
   "metadata": {},
   "outputs": [
    {
     "name": "stdout",
     "output_type": "stream",
     "text": [
      "Original array:, [100, 110, 120, 130, 140, 400]\n",
      "Reversed array:, [400, 140, 130, 120, 110, 100]\n"
     ]
    }
   ],
   "source": [
    "# Write your code HERE\n",
    "print(f\"Original array:, {arr}\")\n",
    "arr.reverse()\n",
    "print(f\"Reversed array:, {arr}\")\n",
    "\n",
    "\n",
    "# print(arr)"
   ]
  },
  {
   "cell_type": "markdown",
   "metadata": {},
   "source": [
    "\n",
    "4. **Find the Length of an Array Item**\n",
    "   - Write a Python program to get the length in bytes of one array item in the internal representation.\n",
    "\n",
    "   **Example:**\n",
    "   ```python\n",
    "   # Sample Input\n",
    "   arr = [1, 3, 5, 7, 9]\n",
    "\n",
    "   # Sample Output\n",
    "   Length in bytes of one array item: 4\n",
    "   ```\n"
   ]
  },
  {
   "cell_type": "code",
   "execution_count": 70,
   "metadata": {},
   "outputs": [
    {
     "name": "stdout",
     "output_type": "stream",
     "text": [
      "Length in bytes of one array item: 4 bytes\n"
     ]
    }
   ],
   "source": [
    "import numpy as np\n",
    "\n",
    "arr2 = np.array(arr, dtype=np.int32)  # 4 bytes per int32\n",
    "print(f\"Length in bytes of one array item: {arr2.itemsize} bytes\")"
   ]
  },
  {
   "cell_type": "code",
   "execution_count": 71,
   "metadata": {},
   "outputs": [
    {
     "name": "stdout",
     "output_type": "stream",
     "text": [
      "The size of one array item in bytes is: 6\n"
     ]
    }
   ],
   "source": [
    "# Write your code HERE\n",
    "\n",
    "# I do not know or understand how\n",
    "\n",
    "item_size = len(arr)\n",
    "\n",
    "\n",
    "print(\"The size of one array item in bytes is:\", item_size)\n"
   ]
  },
  {
   "cell_type": "code",
   "execution_count": 72,
   "metadata": {},
   "outputs": [
    {
     "name": "stdout",
     "output_type": "stream",
     "text": [
      "Approximate size of one element in bytes: 28\n",
      "Approximate total size of list in bytes: 168\n"
     ]
    }
   ],
   "source": [
    "# The chatbot recommends:\n",
    "\n",
    "import sys\n",
    "\n",
    "# Get the size of one element (assuming all elements are the same type)\n",
    "element_size = sys.getsizeof(arr[0])\n",
    "\n",
    "# Calculate the total size roughly as the number of items times the size of one item\n",
    "total_size = len(arr) * element_size\n",
    "\n",
    "print(\"Approximate size of one element in bytes:\", element_size)\n",
    "print(\"Approximate total size of list in bytes:\", total_size)\n"
   ]
  },
  {
   "cell_type": "markdown",
   "metadata": {},
   "source": [
    "\n",
    "5. **Remove an Item by Index**\n",
    "   - Write a Python program to remove a specified item using the index of an array.\n",
    "\n",
    "   **Example:**\n",
    "   ```python\n",
    "   # Sample Input\n",
    "   arr = [1, 3, 5, 7, 9]\n",
    "\n",
    "   # Sample Output\n",
    "   Original array: [1, 3, 5, 7, 9]\n",
    "   New array after removing index 2: [1, 3, 7, 9]\n",
    "   ```\n"
   ]
  },
  {
   "cell_type": "code",
   "execution_count": 73,
   "metadata": {},
   "outputs": [
    {
     "name": "stdout",
     "output_type": "stream",
     "text": [
      "Original array: [400, 140, 130, 120, 110, 100]\n",
      "Array after removing item by index: [400, 140, 120, 110, 100]\n",
      "Removed item: 130\n"
     ]
    }
   ],
   "source": [
    "# Write your code HERE\n",
    "\n",
    "print(\"Original array:\", arr)\n",
    "removed_item = arr.pop(2)\n",
    "\n",
    "print(\"Array after removing item by index:\", arr)\n",
    "print(\"Removed item:\", removed_item)"
   ]
  },
  {
   "cell_type": "markdown",
   "metadata": {},
   "source": [
    "\n",
    "6. **Remove First Occurrence of an Element**\n",
    "   - Write a Python program to remove the first occurrence of a specified element from an array.\n",
    "\n",
    "   **Example:**\n",
    "   ```python\n",
    "   # Sample Input\n",
    "   arr = [1, 3, 5, 3, 7]\n",
    "\n",
    "   # Sample Output\n",
    "   Original array: [1, 3, 5, 3, 7]\n",
    "   New array after removing first occurrence of '3': [1, 5, 3, 7]\n",
    "   ```\n"
   ]
  },
  {
   "cell_type": "code",
   "execution_count": 74,
   "metadata": {},
   "outputs": [
    {
     "name": "stdout",
     "output_type": "stream",
     "text": [
      "Original array: [400, 140, 120, 110, 100]\n",
      "New array after removing first occurrence of '400': [140, 120, 110, 100]\n",
      "Removed item: None\n"
     ]
    }
   ],
   "source": [
    "# Write your code HERE\n",
    "\n",
    "print(\"Original array:\", arr)\n",
    "removed_item1 = arr.remove(400)\n",
    "\n",
    "print(\"New array after removing first occurrence of '400':\", arr)\n",
    "print(\"Removed item:\", removed_item1)\n"
   ]
  },
  {
   "cell_type": "markdown",
   "metadata": {},
   "source": [
    "\n",
    "7. **Convert Array to List**\n",
    "    - Write a Python program to convert an array to an ordinary list with the same items.\n",
    "\n",
    "    **Example:**\n",
    "    ```python\n",
    "    # Sample Input\n",
    "    arr = [1, 2, 3]\n",
    "\n",
    "    # Sample Output\n",
    "    Converted list: [1, 2, 3]\n",
    "    ```\n"
   ]
  },
  {
   "cell_type": "code",
   "execution_count": 75,
   "metadata": {},
   "outputs": [
    {
     "name": "stdout",
     "output_type": "stream",
     "text": [
      "Converted list: [140, 120, 110, 100]\n"
     ]
    }
   ],
   "source": [
    "# Write your code HERE\n",
    "arr2 = arr\n",
    "\n",
    "print(\"Converted list:\",arr2)"
   ]
  },
  {
   "cell_type": "markdown",
   "metadata": {},
   "source": [
    "\n",
    "8. **Check for Duplicates in Array**\n",
    "    - Write a Python program to find out if a given array of integers contains any duplicate elements.\n",
    "\n",
    "    **Example:**\n",
    "    ```python\n",
    "    # Sample Input\n",
    "    arr = [1,2,3,4]\n",
    "\n",
    "    # Sample Output\n",
    "    Contains duplicates: False\n",
    "\n",
    "    arr = [1,2,2]\n",
    "\n",
    "    Contains duplicates: True\n",
    "    ```\n"
   ]
  },
  {
   "cell_type": "code",
   "execution_count": 76,
   "metadata": {},
   "outputs": [
    {
     "name": "stdout",
     "output_type": "stream",
     "text": [
      "Contains duplicates: False\n"
     ]
    }
   ],
   "source": [
    "# Write your code HERE\n",
    "\n",
    "check_dup = len(arr) != len(set(arr))\n",
    "\n",
    "print(f\"Contains duplicates: {check_dup}\")\n"
   ]
  },
  {
   "cell_type": "code",
   "execution_count": 77,
   "metadata": {},
   "outputs": [
    {
     "name": "stdout",
     "output_type": "stream",
     "text": [
      "Contains duplicates: True\n"
     ]
    }
   ],
   "source": [
    "arr10 = [1,2,2]\n",
    "\n",
    "check_dup = len(arr10) != len(set(arr10))\n",
    "\n",
    "print(f\"Contains duplicates: {check_dup}\")\n"
   ]
  },
  {
   "cell_type": "markdown",
   "metadata": {},
   "source": [
    "## Advanced Exercises\n"
   ]
  },
  {
   "cell_type": "markdown",
   "metadata": {},
   "source": [
    "\n",
    "1. **Find Maximum and Minimum in an Array**\n",
    "    - Write a Python program to find the maximum and minimum values in an integer array.\n",
    "\n",
    "    **Example:**\n",
    "    ```python\n",
    "    # Sample Input\n",
    "    arr = [10, -2, -30 ,4 ,100 ,50]\n",
    "\n",
    "    # Sample Output\n",
    "    Maximum value:100\n",
    "    Minimum value:-30\n",
    "    ```\n"
   ]
  },
  {
   "cell_type": "code",
   "execution_count": null,
   "metadata": {},
   "outputs": [
    {
     "name": "stdout",
     "output_type": "stream",
     "text": [
      "Maximum value: 100\n",
      "Minimum value: -30\n"
     ]
    }
   ],
   "source": [
    "# Write your code HERE\n",
    "arr = [10, -2, -30 ,4 ,100 ,50]\n",
    "\n",
    "\n",
    "print(\"Maximum value: {}\".format(max(arr)))\n",
    "print(\"Minimum value: {}\".format(min(arr)))\n",
    "\n"
   ]
  },
  {
   "cell_type": "markdown",
   "metadata": {},
   "source": [
    "\n",
    "2. **Count Even and Odd Numbers in an Array**\n",
    "    - Write a Python program to count how many even and odd numbers are present in an integer array.\n",
    "\n",
    "    **Example:**\n",
    "    ```python\n",
    "    # Sample Input\n",
    "    arr = [10 ,21 ,32 ,43 ,54 ,65 ,76 ,87]\n",
    "\n",
    "    # Sample Output\n",
    "    Even count:4\n",
    "    Odd count:4\n",
    "    ```\n"
   ]
  },
  {
   "cell_type": "code",
   "execution_count": 94,
   "metadata": {},
   "outputs": [
    {
     "name": "stdout",
     "output_type": "stream",
     "text": [
      "Even count: 4\n",
      "Odd count: 4\n"
     ]
    }
   ],
   "source": [
    "# Write your code HERE\n",
    "arr = [10 ,21 ,32 ,43 ,54 ,65 ,76 ,87]\n",
    "\n",
    "even = 0\n",
    "odd = 0\n",
    "\n",
    "for number in arr:\n",
    "    if number % 2 == 0 :\n",
    "        even += 1\n",
    "    else:\n",
    "        odd += 1\n",
    "\n",
    "print(f\"Even count: {even}\")\n",
    "print(f\"Odd count: {odd}\")\n",
    "        \n",
    "\n"
   ]
  },
  {
   "cell_type": "markdown",
   "metadata": {},
   "source": [
    "## Bonus Challenges\n"
   ]
  },
  {
   "cell_type": "markdown",
   "metadata": {},
   "source": [
    "\n",
    "1. **Rotate Array Elements**\n",
    "    - Write a Python program to rotate elements of an integer array by `k` positions.\n",
    "\n",
    "    **Example:**\n",
    "    ```python\n",
    "    # Sample Input\n",
    "    arr = [10 ,20 ,30 ,40 ,50]\n",
    "    k =2\n",
    "\n",
    "    # Sample Output\n",
    "    Rotated Array: [30 ,40 ,50 ,10 ,20]\n",
    "    ```\n"
   ]
  },
  {
   "cell_type": "code",
   "execution_count": 98,
   "metadata": {},
   "outputs": [
    {
     "name": "stdout",
     "output_type": "stream",
     "text": [
      "Rotated Array: [30, 40, 50, 10, 20]\n",
      "[30, 40, 50]\n",
      "[10, 20]\n"
     ]
    }
   ],
   "source": [
    "# Write your code HERE\n",
    "arr = [10 ,20 ,30 ,40 ,50]\n",
    "k =2\n",
    "\n",
    "\"\"\"    # Sample Output\n",
    "    Rotated Array: [30 ,40 ,50 ,10 ,20]\"\"\"\n",
    "\n",
    "rotated_array1 = arr[k::]\n",
    "rotated_array2 = arr[:k:]\n",
    "comb_rotated_array = rotated_array1 + rotated_array2\n",
    "# rotated_array = \n",
    "print(f\"Rotated Array: {comb_rotated_array}\")\n",
    "\n",
    "print(rotated_array1)\n",
    "print(rotated_array2)\n",
    "\n"
   ]
  },
  {
   "cell_type": "markdown",
   "metadata": {},
   "source": [
    "\n",
    "2. **Merge Two Sorted Arrays**\n",
    "     - Write a Python program to merge two sorted arrays into one sorted array.\n",
    "\n",
    "     **Example:**\n",
    "     ```python\n",
    "     # Sample Input\n",
    "     arr1 = [1 ,3 ,5]\n",
    "     arr2 = [2 ,4 ,6]\n",
    "\n",
    "     # Sample Output\n",
    "     Merged Sorted Array: [1 ,2 ,3 ,4 ,5 ,6]\n",
    "     ```\n",
    "\n"
   ]
  },
  {
   "cell_type": "code",
   "execution_count": 107,
   "metadata": {},
   "outputs": [
    {
     "name": "stdout",
     "output_type": "stream",
     "text": [
      "Merged Sorted Array: [1, 2, 3, 4, 5, 6]\n"
     ]
    }
   ],
   "source": [
    "# Write your code HERE\n",
    "\n",
    "# Sample Input\n",
    "arr1 = [1 ,3 ,5]\n",
    "arr2 = [2 ,4 ,6]\n",
    "\n",
    "sorted_arr = sorted(arr1 + arr2)\n",
    "\n",
    "print(f\"Merged Sorted Array: {sorted_arr}\")\n",
    "\n",
    "# Sample Output\n",
    "#Merged Sorted Array: [1 ,2 ,3 ,4 ,5 ,6]\n"
   ]
  },
  {
   "cell_type": "markdown",
   "metadata": {},
   "source": [
    "### Exercise Completion\n",
    "Once you have completed all exercises:\n",
    "- Review your solutions.\n",
    "- Ensure your Python code are well-documented with comments explaining your logic.\n",
    "- Save your notebook for submission or further review.\n",
    "\n",
    "Happy coding! Enjoy practicing Arrays in Python!"
   ]
  },
  {
   "cell_type": "markdown",
   "metadata": {},
   "source": []
  }
 ],
 "metadata": {
  "kernelspec": {
   "display_name": "base",
   "language": "python",
   "name": "python3"
  },
  "language_info": {
   "codemirror_mode": {
    "name": "ipython",
    "version": 3
   },
   "file_extension": ".py",
   "mimetype": "text/x-python",
   "name": "python",
   "nbconvert_exporter": "python",
   "pygments_lexer": "ipython3",
   "version": "3.12.7"
  }
 },
 "nbformat": 4,
 "nbformat_minor": 2
}
